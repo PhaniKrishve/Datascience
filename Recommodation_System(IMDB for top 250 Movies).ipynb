{
 "cells": [
  {
   "cell_type": "code",
   "execution_count": 1,
   "metadata": {},
   "outputs": [],
   "source": [
    "import pandas as pd\n",
    "import numpy as np\n",
    "import os\n",
    "import seaborn as sns\n",
    "os.chdir('C:/Users/Administrator/Untitled Folder 1')\n",
    "import matplotlib.pyplot as plt"
   ]
  },
  {
   "cell_type": "code",
   "execution_count": 2,
   "metadata": {},
   "outputs": [
    {
     "data": {
      "text/html": [
       "<div>\n",
       "<style scoped>\n",
       "    .dataframe tbody tr th:only-of-type {\n",
       "        vertical-align: middle;\n",
       "    }\n",
       "\n",
       "    .dataframe tbody tr th {\n",
       "        vertical-align: top;\n",
       "    }\n",
       "\n",
       "    .dataframe thead th {\n",
       "        text-align: right;\n",
       "    }\n",
       "</style>\n",
       "<table border=\"1\" class=\"dataframe\">\n",
       "  <thead>\n",
       "    <tr style=\"text-align: right;\">\n",
       "      <th></th>\n",
       "      <th>Budget</th>\n",
       "      <th>IMD_Rating</th>\n",
       "      <th>No_of_reviewers</th>\n",
       "      <th>censor_board_rating</th>\n",
       "      <th>cumm_gross</th>\n",
       "      <th>genre1</th>\n",
       "      <th>genre2</th>\n",
       "      <th>genre3</th>\n",
       "      <th>genre4</th>\n",
       "      <th>gross_USA</th>\n",
       "      <th>...</th>\n",
       "      <th>star1</th>\n",
       "      <th>star2</th>\n",
       "      <th>star3</th>\n",
       "      <th>star4</th>\n",
       "      <th>star5</th>\n",
       "      <th>summary</th>\n",
       "      <th>writer1</th>\n",
       "      <th>writer2</th>\n",
       "      <th>writer3</th>\n",
       "      <th>year</th>\n",
       "    </tr>\n",
       "  </thead>\n",
       "  <tbody>\n",
       "    <tr>\n",
       "      <th>0</th>\n",
       "      <td>25000000.0</td>\n",
       "      <td>9.3</td>\n",
       "      <td>2063516</td>\n",
       "      <td>R</td>\n",
       "      <td>5.850000e+07</td>\n",
       "      <td>Drama</td>\n",
       "      <td>NaN</td>\n",
       "      <td>NaN</td>\n",
       "      <td>NaN</td>\n",
       "      <td>28341469.0</td>\n",
       "      <td>...</td>\n",
       "      <td>Tim Robbins</td>\n",
       "      <td>Morgan Freeman</td>\n",
       "      <td>Bob Gunton</td>\n",
       "      <td>NaN</td>\n",
       "      <td>NaN</td>\n",
       "      <td>Two imprisoned men bond over a number of years...</td>\n",
       "      <td>Stephen King</td>\n",
       "      <td>Frank Darabont</td>\n",
       "      <td>NaN</td>\n",
       "      <td>1994</td>\n",
       "    </tr>\n",
       "    <tr>\n",
       "      <th>1</th>\n",
       "      <td>6000000.0</td>\n",
       "      <td>9.2</td>\n",
       "      <td>1415683</td>\n",
       "      <td>R</td>\n",
       "      <td>2.450664e+08</td>\n",
       "      <td>Crime</td>\n",
       "      <td>Drama</td>\n",
       "      <td>NaN</td>\n",
       "      <td>NaN</td>\n",
       "      <td>134966411.0</td>\n",
       "      <td>...</td>\n",
       "      <td>Marlon Brando</td>\n",
       "      <td>Al Pacino</td>\n",
       "      <td>James Caan</td>\n",
       "      <td>NaN</td>\n",
       "      <td>NaN</td>\n",
       "      <td>The aging patriarch of an organized crime dyna...</td>\n",
       "      <td>Mario Puzo</td>\n",
       "      <td>Francis Ford Coppola</td>\n",
       "      <td>1 more credit</td>\n",
       "      <td>1972</td>\n",
       "    </tr>\n",
       "    <tr>\n",
       "      <th>2</th>\n",
       "      <td>13000000.0</td>\n",
       "      <td>9.0</td>\n",
       "      <td>982109</td>\n",
       "      <td>R</td>\n",
       "      <td>NaN</td>\n",
       "      <td>Crime</td>\n",
       "      <td>Drama</td>\n",
       "      <td>NaN</td>\n",
       "      <td>NaN</td>\n",
       "      <td>57300000.0</td>\n",
       "      <td>...</td>\n",
       "      <td>Al Pacino</td>\n",
       "      <td>Robert De Niro</td>\n",
       "      <td>Robert Duvall</td>\n",
       "      <td>NaN</td>\n",
       "      <td>NaN</td>\n",
       "      <td>The early life and career of Vito Corleone in ...</td>\n",
       "      <td>Francis Ford Coppola</td>\n",
       "      <td>Mario Puzo</td>\n",
       "      <td>1 more credit</td>\n",
       "      <td>1974</td>\n",
       "    </tr>\n",
       "    <tr>\n",
       "      <th>3</th>\n",
       "      <td>185000000.0</td>\n",
       "      <td>9.0</td>\n",
       "      <td>2029754</td>\n",
       "      <td>PG-13</td>\n",
       "      <td>1.004558e+09</td>\n",
       "      <td>Action</td>\n",
       "      <td>Crime</td>\n",
       "      <td>Drama</td>\n",
       "      <td>NaN</td>\n",
       "      <td>534858444.0</td>\n",
       "      <td>...</td>\n",
       "      <td>Christian Bale</td>\n",
       "      <td>Heath Ledger</td>\n",
       "      <td>Aaron Eckhart</td>\n",
       "      <td>NaN</td>\n",
       "      <td>NaN</td>\n",
       "      <td>When the menace known as the Joker emerges fro...</td>\n",
       "      <td>Jonathan Nolan</td>\n",
       "      <td>Christopher Nolan</td>\n",
       "      <td>3 more credits</td>\n",
       "      <td>2008</td>\n",
       "    </tr>\n",
       "    <tr>\n",
       "      <th>4</th>\n",
       "      <td>350000.0</td>\n",
       "      <td>8.9</td>\n",
       "      <td>582223</td>\n",
       "      <td>NotRated</td>\n",
       "      <td>NaN</td>\n",
       "      <td>Drama</td>\n",
       "      <td>NaN</td>\n",
       "      <td>NaN</td>\n",
       "      <td>NaN</td>\n",
       "      <td>4360000.0</td>\n",
       "      <td>...</td>\n",
       "      <td>Henry Fonda</td>\n",
       "      <td>Lee J. Cobb</td>\n",
       "      <td>Martin Balsam</td>\n",
       "      <td>NaN</td>\n",
       "      <td>NaN</td>\n",
       "      <td>A jury holdout attempts to prevent a miscarria...</td>\n",
       "      <td>Reginald Rose</td>\n",
       "      <td>Reginald Rose</td>\n",
       "      <td>NaN</td>\n",
       "      <td>1957</td>\n",
       "    </tr>\n",
       "  </tbody>\n",
       "</table>\n",
       "<p>5 rows × 25 columns</p>\n",
       "</div>"
      ],
      "text/plain": [
       "        Budget  IMD_Rating  No_of_reviewers censor_board_rating    cumm_gross  \\\n",
       "0   25000000.0         9.3          2063516                   R  5.850000e+07   \n",
       "1    6000000.0         9.2          1415683                   R  2.450664e+08   \n",
       "2   13000000.0         9.0           982109                   R           NaN   \n",
       "3  185000000.0         9.0          2029754               PG-13  1.004558e+09   \n",
       "4     350000.0         8.9           582223            NotRated           NaN   \n",
       "\n",
       "   genre1 genre2 genre3  genre4    gross_USA  ...            star1  \\\n",
       "0   Drama    NaN    NaN     NaN   28341469.0  ...      Tim Robbins   \n",
       "1   Crime  Drama    NaN     NaN  134966411.0  ...    Marlon Brando   \n",
       "2   Crime  Drama    NaN     NaN   57300000.0  ...        Al Pacino   \n",
       "3  Action  Crime  Drama     NaN  534858444.0  ...   Christian Bale   \n",
       "4   Drama    NaN    NaN     NaN    4360000.0  ...      Henry Fonda   \n",
       "\n",
       "            star2          star3 star4 star5  \\\n",
       "0  Morgan Freeman     Bob Gunton   NaN   NaN   \n",
       "1       Al Pacino     James Caan   NaN   NaN   \n",
       "2  Robert De Niro  Robert Duvall   NaN   NaN   \n",
       "3    Heath Ledger  Aaron Eckhart   NaN   NaN   \n",
       "4     Lee J. Cobb  Martin Balsam   NaN   NaN   \n",
       "\n",
       "                                             summary               writer1  \\\n",
       "0  Two imprisoned men bond over a number of years...          Stephen King   \n",
       "1  The aging patriarch of an organized crime dyna...            Mario Puzo   \n",
       "2  The early life and career of Vito Corleone in ...  Francis Ford Coppola   \n",
       "3  When the menace known as the Joker emerges fro...        Jonathan Nolan   \n",
       "4  A jury holdout attempts to prevent a miscarria...         Reginald Rose   \n",
       "\n",
       "                writer2         writer3  year  \n",
       "0        Frank Darabont             NaN  1994  \n",
       "1  Francis Ford Coppola   1 more credit  1972  \n",
       "2            Mario Puzo   1 more credit  1974  \n",
       "3     Christopher Nolan  3 more credits  2008  \n",
       "4         Reginald Rose             NaN  1957  \n",
       "\n",
       "[5 rows x 25 columns]"
      ]
     },
     "execution_count": 2,
     "metadata": {},
     "output_type": "execute_result"
    }
   ],
   "source": [
    "top_movies=pd.read_csv(\"top_imdb_movie1.csv\")\n",
    "top_movies.head()"
   ]
  },
  {
   "cell_type": "code",
   "execution_count": 3,
   "metadata": {},
   "outputs": [
    {
     "data": {
      "text/plain": [
       "Budget                  27\n",
       "IMD_Rating               0\n",
       "No_of_reviewers          0\n",
       "censor_board_rating      0\n",
       "cumm_gross              96\n",
       "genre1                   0\n",
       "genre2                  27\n",
       "genre3                 112\n",
       "genre4                 250\n",
       "gross_USA               31\n",
       "keywords_list            0\n",
       "movie_name               0\n",
       "production_company       0\n",
       "release_date             0\n",
       "run_time                 0\n",
       "star1                    0\n",
       "star2                    0\n",
       "star3                    0\n",
       "star4                  250\n",
       "star5                  250\n",
       "summary                  0\n",
       "writer1                  0\n",
       "writer2                 56\n",
       "writer3                130\n",
       "year                     0\n",
       "dtype: int64"
      ]
     },
     "execution_count": 3,
     "metadata": {},
     "output_type": "execute_result"
    }
   ],
   "source": [
    "top_movies.isnull().sum()"
   ]
  },
  {
   "cell_type": "code",
   "execution_count": 4,
   "metadata": {},
   "outputs": [
    {
     "data": {
      "text/plain": [
       "(233, 25)"
      ]
     },
     "execution_count": 4,
     "metadata": {},
     "output_type": "execute_result"
    }
   ],
   "source": [
    "#Dropping the the movies which dont have either cummaltive gross ,Budget and gross_USA from the list\n",
    "\n",
    "\n",
    "top_movies_indexes = top_movies[(top_movies.Budget.isnull()) & (top_movies.cumm_gross.isnull()) & (top_movies.gross_USA.isnull())].index\n",
    "top_movies.drop(top_movies_indexes , inplace=True)\n",
    "top_movies.shape"
   ]
  },
  {
   "cell_type": "code",
   "execution_count": 5,
   "metadata": {},
   "outputs": [
    {
     "data": {
      "text/plain": [
       "10"
      ]
     },
     "execution_count": 5,
     "metadata": {},
     "output_type": "execute_result"
    }
   ],
   "source": [
    "top_movies.Budget.isnull().sum()"
   ]
  },
  {
   "cell_type": "code",
   "execution_count": 6,
   "metadata": {},
   "outputs": [],
   "source": [
    "#Inputing Budget value Based on genre and Year it has been released"
   ]
  },
  {
   "cell_type": "code",
   "execution_count": 7,
   "metadata": {},
   "outputs": [],
   "source": [
    "#Checking for the relation for genre and the budge\n",
    "mov = top_movies[['Budget','genre1','year']]\n",
    "#mov=mov.groupby(['year','genre1'])[['Budget']].sum().reset_index()\n",
    "#mov"
   ]
  },
  {
   "cell_type": "code",
   "execution_count": 8,
   "metadata": {},
   "outputs": [
    {
     "data": {
      "text/html": [
       "<div>\n",
       "<style scoped>\n",
       "    .dataframe tbody tr th:only-of-type {\n",
       "        vertical-align: middle;\n",
       "    }\n",
       "\n",
       "    .dataframe tbody tr th {\n",
       "        vertical-align: top;\n",
       "    }\n",
       "\n",
       "    .dataframe thead th {\n",
       "        text-align: right;\n",
       "    }\n",
       "</style>\n",
       "<table border=\"1\" class=\"dataframe\">\n",
       "  <thead>\n",
       "    <tr style=\"text-align: right;\">\n",
       "      <th></th>\n",
       "      <th>Budget</th>\n",
       "      <th>IMD_Rating</th>\n",
       "      <th>No_of_reviewers</th>\n",
       "      <th>cumm_gross</th>\n",
       "      <th>genre4</th>\n",
       "      <th>gross_USA</th>\n",
       "      <th>star4</th>\n",
       "      <th>star5</th>\n",
       "      <th>year</th>\n",
       "    </tr>\n",
       "  </thead>\n",
       "  <tbody>\n",
       "    <tr>\n",
       "      <th>Budget</th>\n",
       "      <td>1.000000</td>\n",
       "      <td>-0.045534</td>\n",
       "      <td>-0.060834</td>\n",
       "      <td>-0.026202</td>\n",
       "      <td>NaN</td>\n",
       "      <td>-0.018973</td>\n",
       "      <td>NaN</td>\n",
       "      <td>NaN</td>\n",
       "      <td>0.135513</td>\n",
       "    </tr>\n",
       "    <tr>\n",
       "      <th>IMD_Rating</th>\n",
       "      <td>-0.045534</td>\n",
       "      <td>1.000000</td>\n",
       "      <td>0.578037</td>\n",
       "      <td>0.197746</td>\n",
       "      <td>NaN</td>\n",
       "      <td>0.177079</td>\n",
       "      <td>NaN</td>\n",
       "      <td>NaN</td>\n",
       "      <td>0.016108</td>\n",
       "    </tr>\n",
       "    <tr>\n",
       "      <th>No_of_reviewers</th>\n",
       "      <td>-0.060834</td>\n",
       "      <td>0.578037</td>\n",
       "      <td>1.000000</td>\n",
       "      <td>0.460596</td>\n",
       "      <td>NaN</td>\n",
       "      <td>0.577805</td>\n",
       "      <td>NaN</td>\n",
       "      <td>NaN</td>\n",
       "      <td>0.406290</td>\n",
       "    </tr>\n",
       "    <tr>\n",
       "      <th>cumm_gross</th>\n",
       "      <td>-0.026202</td>\n",
       "      <td>0.197746</td>\n",
       "      <td>0.460596</td>\n",
       "      <td>1.000000</td>\n",
       "      <td>NaN</td>\n",
       "      <td>0.937785</td>\n",
       "      <td>NaN</td>\n",
       "      <td>NaN</td>\n",
       "      <td>0.291398</td>\n",
       "    </tr>\n",
       "    <tr>\n",
       "      <th>genre4</th>\n",
       "      <td>NaN</td>\n",
       "      <td>NaN</td>\n",
       "      <td>NaN</td>\n",
       "      <td>NaN</td>\n",
       "      <td>NaN</td>\n",
       "      <td>NaN</td>\n",
       "      <td>NaN</td>\n",
       "      <td>NaN</td>\n",
       "      <td>NaN</td>\n",
       "    </tr>\n",
       "    <tr>\n",
       "      <th>gross_USA</th>\n",
       "      <td>-0.018973</td>\n",
       "      <td>0.177079</td>\n",
       "      <td>0.577805</td>\n",
       "      <td>0.937785</td>\n",
       "      <td>NaN</td>\n",
       "      <td>1.000000</td>\n",
       "      <td>NaN</td>\n",
       "      <td>NaN</td>\n",
       "      <td>0.356349</td>\n",
       "    </tr>\n",
       "    <tr>\n",
       "      <th>star4</th>\n",
       "      <td>NaN</td>\n",
       "      <td>NaN</td>\n",
       "      <td>NaN</td>\n",
       "      <td>NaN</td>\n",
       "      <td>NaN</td>\n",
       "      <td>NaN</td>\n",
       "      <td>NaN</td>\n",
       "      <td>NaN</td>\n",
       "      <td>NaN</td>\n",
       "    </tr>\n",
       "    <tr>\n",
       "      <th>star5</th>\n",
       "      <td>NaN</td>\n",
       "      <td>NaN</td>\n",
       "      <td>NaN</td>\n",
       "      <td>NaN</td>\n",
       "      <td>NaN</td>\n",
       "      <td>NaN</td>\n",
       "      <td>NaN</td>\n",
       "      <td>NaN</td>\n",
       "      <td>NaN</td>\n",
       "    </tr>\n",
       "    <tr>\n",
       "      <th>year</th>\n",
       "      <td>0.135513</td>\n",
       "      <td>0.016108</td>\n",
       "      <td>0.406290</td>\n",
       "      <td>0.291398</td>\n",
       "      <td>NaN</td>\n",
       "      <td>0.356349</td>\n",
       "      <td>NaN</td>\n",
       "      <td>NaN</td>\n",
       "      <td>1.000000</td>\n",
       "    </tr>\n",
       "  </tbody>\n",
       "</table>\n",
       "</div>"
      ],
      "text/plain": [
       "                   Budget  IMD_Rating  No_of_reviewers  cumm_gross  genre4  \\\n",
       "Budget           1.000000   -0.045534        -0.060834   -0.026202     NaN   \n",
       "IMD_Rating      -0.045534    1.000000         0.578037    0.197746     NaN   \n",
       "No_of_reviewers -0.060834    0.578037         1.000000    0.460596     NaN   \n",
       "cumm_gross      -0.026202    0.197746         0.460596    1.000000     NaN   \n",
       "genre4                NaN         NaN              NaN         NaN     NaN   \n",
       "gross_USA       -0.018973    0.177079         0.577805    0.937785     NaN   \n",
       "star4                 NaN         NaN              NaN         NaN     NaN   \n",
       "star5                 NaN         NaN              NaN         NaN     NaN   \n",
       "year             0.135513    0.016108         0.406290    0.291398     NaN   \n",
       "\n",
       "                 gross_USA  star4  star5      year  \n",
       "Budget           -0.018973    NaN    NaN  0.135513  \n",
       "IMD_Rating        0.177079    NaN    NaN  0.016108  \n",
       "No_of_reviewers   0.577805    NaN    NaN  0.406290  \n",
       "cumm_gross        0.937785    NaN    NaN  0.291398  \n",
       "genre4                 NaN    NaN    NaN       NaN  \n",
       "gross_USA         1.000000    NaN    NaN  0.356349  \n",
       "star4                  NaN    NaN    NaN       NaN  \n",
       "star5                  NaN    NaN    NaN       NaN  \n",
       "year              0.356349    NaN    NaN  1.000000  "
      ]
     },
     "execution_count": 8,
     "metadata": {},
     "output_type": "execute_result"
    }
   ],
   "source": [
    "top_movies.corr()\n",
    "#From the Below table we can infer that\n",
    "# budget of the movie and year are correlated(positive-weakly) with each other\n",
    "#IMDB rating and number of reviews are correlated (postive-Strong) with each other\n",
    "#IMDB rating and cum_gross and gross_USA are correlated(postive-Weak) with each other\n",
    "#Number of reviewers vs cumm_gross & gross_USA are correlated(postive-high) with each other\n",
    "#cumm_gross and USA_gross are highly correlated with each other"
   ]
  },
  {
   "cell_type": "code",
   "execution_count": 9,
   "metadata": {},
   "outputs": [
    {
     "data": {
      "text/plain": [
       "<matplotlib.collections.PathCollection at 0x2bcf7aa2080>"
      ]
     },
     "execution_count": 9,
     "metadata": {},
     "output_type": "execute_result"
    },
    {
     "data": {
      "image/png": "[encoded data removed]",
      "text/plain": [
       "<Figure size 432x288 with 1 Axes>"
      ]
     },
     "metadata": {
      "needs_background": "light"
     },
     "output_type": "display_data"
    }
   ],
   "source": [
    "#Comparing gross_USA and cumm_gross\n",
    "plt.scatter(top_movies['gross_USA'],top_movies['cumm_gross'])"
   ]
  },
  {
   "cell_type": "code",
   "execution_count": 10,
   "metadata": {},
   "outputs": [],
   "source": [
    "top_movies['popularity_index']=top_movies['No_of_reviewers']*top_movies['IMD_Rating']"
   ]
  },
  {
   "cell_type": "code",
   "execution_count": 11,
   "metadata": {},
   "outputs": [],
   "source": [
    "#as gross_usa and cumm_gross are highly correlated we are going to perfom a linear regression predict to input na values\n",
    "#getting movie_name,gorss_usa,cumm_gross separately\n",
    "top=top_movies[['movie_name','gross_USA','cumm_gross','year']]\n",
    "#top.head()\n",
    "#top.to_csv(\"top_imdb.csv\")\n"
   ]
  },
  {
   "cell_type": "code",
   "execution_count": 12,
   "metadata": {},
   "outputs": [
    {
     "name": "stderr",
     "output_type": "stream",
     "text": [
      "C:\\ProgramData\\Anaconda3\\lib\\site-packages\\ipykernel_launcher.py:5: SettingWithCopyWarning: \n",
      "A value is trying to be set on a copy of a slice from a DataFrame\n",
      "\n",
      "See the caveats in the documentation: http://pandas.pydata.org/pandas-docs/stable/indexing.html#indexing-view-versus-copy\n",
      "  \"\"\"\n"
     ]
    }
   ],
   "source": [
    "test = top[(top.cumm_gross.isnull())&(top.gross_USA.notnull())]\n",
    "test_movie=test['movie_name']\n",
    "#test=test.set_index('movie_name')\n",
    "test_index = top[(top.cumm_gross.isnull())&(top.gross_USA.notnull())].index\n",
    "top.drop(test_index,inplace=True)\n"
   ]
  },
  {
   "cell_type": "code",
   "execution_count": 13,
   "metadata": {},
   "outputs": [
    {
     "data": {
      "text/html": [
       "<div>\n",
       "<style scoped>\n",
       "    .dataframe tbody tr th:only-of-type {\n",
       "        vertical-align: middle;\n",
       "    }\n",
       "\n",
       "    .dataframe tbody tr th {\n",
       "        vertical-align: top;\n",
       "    }\n",
       "\n",
       "    .dataframe thead th {\n",
       "        text-align: right;\n",
       "    }\n",
       "</style>\n",
       "<table border=\"1\" class=\"dataframe\">\n",
       "  <thead>\n",
       "    <tr style=\"text-align: right;\">\n",
       "      <th></th>\n",
       "      <th>gross_USA</th>\n",
       "      <th>year</th>\n",
       "    </tr>\n",
       "  </thead>\n",
       "  <tbody>\n",
       "    <tr>\n",
       "      <th>2</th>\n",
       "      <td>57300000.0</td>\n",
       "      <td>1974</td>\n",
       "    </tr>\n",
       "    <tr>\n",
       "      <th>4</th>\n",
       "      <td>4360000.0</td>\n",
       "      <td>1957</td>\n",
       "    </tr>\n",
       "    <tr>\n",
       "      <th>8</th>\n",
       "      <td>6100000.0</td>\n",
       "      <td>1966</td>\n",
       "    </tr>\n",
       "    <tr>\n",
       "      <th>15</th>\n",
       "      <td>112000000.0</td>\n",
       "      <td>1975</td>\n",
       "    </tr>\n",
       "    <tr>\n",
       "      <th>16</th>\n",
       "      <td>46836394.0</td>\n",
       "      <td>1990</td>\n",
       "    </tr>\n",
       "  </tbody>\n",
       "</table>\n",
       "</div>"
      ],
      "text/plain": [
       "      gross_USA  year\n",
       "2    57300000.0  1974\n",
       "4     4360000.0  1957\n",
       "8     6100000.0  1966\n",
       "15  112000000.0  1975\n",
       "16   46836394.0  1990"
      ]
     },
     "execution_count": 13,
     "metadata": {},
     "output_type": "execute_result"
    }
   ],
   "source": [
    "test =test.drop(['movie_name','cumm_gross'],axis=1)\n",
    "top.shape\n",
    "test.head()"
   ]
  },
  {
   "cell_type": "markdown",
   "metadata": {},
   "source": [
    "#  Procuedure INPUTING MISSING VALUES of cumm_gross"
   ]
  },
  {
   "cell_type": "code",
   "execution_count": 14,
   "metadata": {},
   "outputs": [
    {
     "data": {
      "text/html": [
       "<div>\n",
       "<style scoped>\n",
       "    .dataframe tbody tr th:only-of-type {\n",
       "        vertical-align: middle;\n",
       "    }\n",
       "\n",
       "    .dataframe tbody tr th {\n",
       "        vertical-align: top;\n",
       "    }\n",
       "\n",
       "    .dataframe thead th {\n",
       "        text-align: right;\n",
       "    }\n",
       "</style>\n",
       "<table border=\"1\" class=\"dataframe\">\n",
       "  <thead>\n",
       "    <tr style=\"text-align: right;\">\n",
       "      <th></th>\n",
       "      <th>gross_USA</th>\n",
       "      <th>cumm_gross</th>\n",
       "      <th>year</th>\n",
       "    </tr>\n",
       "    <tr>\n",
       "      <th>movie_name</th>\n",
       "      <th></th>\n",
       "      <th></th>\n",
       "      <th></th>\n",
       "    </tr>\n",
       "  </thead>\n",
       "  <tbody>\n",
       "    <tr>\n",
       "      <th>The Shawshank Redemption</th>\n",
       "      <td>28341469.0</td>\n",
       "      <td>5.850000e+07</td>\n",
       "      <td>1994</td>\n",
       "    </tr>\n",
       "    <tr>\n",
       "      <th>The Godfather</th>\n",
       "      <td>134966411.0</td>\n",
       "      <td>2.450664e+08</td>\n",
       "      <td>1972</td>\n",
       "    </tr>\n",
       "    <tr>\n",
       "      <th>The Dark Knight</th>\n",
       "      <td>534858444.0</td>\n",
       "      <td>1.004558e+09</td>\n",
       "      <td>2008</td>\n",
       "    </tr>\n",
       "    <tr>\n",
       "      <th>Schindler's List</th>\n",
       "      <td>96067179.0</td>\n",
       "      <td>2.210000e+08</td>\n",
       "      <td>1993</td>\n",
       "    </tr>\n",
       "    <tr>\n",
       "      <th>The Lord of the Rings: The Return of the King</th>\n",
       "      <td>377845905.0</td>\n",
       "      <td>1.119930e+09</td>\n",
       "      <td>2003</td>\n",
       "    </tr>\n",
       "  </tbody>\n",
       "</table>\n",
       "</div>"
      ],
      "text/plain": [
       "                                                 gross_USA    cumm_gross  year\n",
       "movie_name                                                                    \n",
       "The Shawshank Redemption                        28341469.0  5.850000e+07  1994\n",
       "The Godfather                                  134966411.0  2.450664e+08  1972\n",
       "The Dark Knight                                534858444.0  1.004558e+09  2008\n",
       "Schindler's List                                96067179.0  2.210000e+08  1993\n",
       "The Lord of the Rings: The Return of the King  377845905.0  1.119930e+09  2003"
      ]
     },
     "execution_count": 14,
     "metadata": {},
     "output_type": "execute_result"
    }
   ],
   "source": [
    "top= top.dropna()\n",
    "top.isnull().sum()\n",
    "top.head()\n",
    "top =top.set_index('movie_name')\n",
    "top.head()"
   ]
  },
  {
   "cell_type": "code",
   "execution_count": 15,
   "metadata": {},
   "outputs": [
    {
     "data": {
      "text/plain": [
       "movie_name\n",
       "The Shawshank Redemption                         5.850000e+07\n",
       "The Godfather                                    2.450664e+08\n",
       "The Dark Knight                                  1.004558e+09\n",
       "Schindler's List                                 2.210000e+08\n",
       "The Lord of the Rings: The Return of the King    1.119930e+09\n",
       "Name: cumm_gross, dtype: float64"
      ]
     },
     "execution_count": 15,
     "metadata": {},
     "output_type": "execute_result"
    }
   ],
   "source": [
    "x=top.drop('cumm_gross',axis=1)\n",
    "x1=np.log(x)\n",
    "y=top['cumm_gross']\n",
    "y1=np.log(y)\n",
    "y.head()"
   ]
  },
  {
   "cell_type": "code",
   "execution_count": 16,
   "metadata": {},
   "outputs": [
    {
     "data": {
      "text/plain": [
       "<matplotlib.collections.PathCollection at 0x2bcf811ec88>"
      ]
     },
     "execution_count": 16,
     "metadata": {},
     "output_type": "execute_result"
    },
    {
     "data": {
      "image/png": "[encoded data removed]",
      "text/plain": [
       "<Figure size 432x288 with 1 Axes>"
      ]
     },
     "metadata": {
      "needs_background": "light"
     },
     "output_type": "display_data"
    }
   ],
   "source": [
    "plt.scatter(x.gross_USA,y)"
   ]
  },
  {
   "cell_type": "code",
   "execution_count": 17,
   "metadata": {},
   "outputs": [
    {
     "data": {
      "text/plain": [
       "<matplotlib.collections.PathCollection at 0x2bcf7cc8710>"
      ]
     },
     "execution_count": 17,
     "metadata": {},
     "output_type": "execute_result"
    },
    {
     "data": {
      "image/png": "[encoded data removed]",
      "text/plain": [
       "<Figure size 432x288 with 1 Axes>"
      ]
     },
     "metadata": {
      "needs_background": "light"
     },
     "output_type": "display_data"
    }
   ],
   "source": [
    "plt.scatter(x1.gross_USA,y1)"
   ]
  },
  {
   "cell_type": "code",
   "execution_count": 18,
   "metadata": {},
   "outputs": [],
   "source": [
    "from sklearn.model_selection import train_test_split\n",
    "from sklearn.metrics import mean_squared_error,r2_score\n",
    "x_train,x_test,y_train,y_test = train_test_split(x1,y1,test_size=0.7)"
   ]
  },
  {
   "cell_type": "code",
   "execution_count": 19,
   "metadata": {},
   "outputs": [],
   "source": [
    "\n",
    "from sklearn.linear_model import LinearRegression\n"
   ]
  },
  {
   "cell_type": "code",
   "execution_count": 20,
   "metadata": {},
   "outputs": [
    {
     "data": {
      "text/plain": [
       "LinearRegression(copy_X=True, fit_intercept=True, n_jobs=1, normalize=False)"
      ]
     },
     "execution_count": 20,
     "metadata": {},
     "output_type": "execute_result"
    }
   ],
   "source": [
    "model =LinearRegression()\n",
    "model.fit(x_train,y_train)"
   ]
  },
  {
   "cell_type": "code",
   "execution_count": 21,
   "metadata": {},
   "outputs": [
    {
     "data": {
      "text/plain": [
       "array([3.48250239e+07, 2.67148068e+06, 3.72838531e+06, 6.80473186e+07,\n",
       "       2.84700994e+07, 1.86795081e+05, 3.47532004e+04, 6.45506589e+05,\n",
       "       3.25558883e+06, 1.22311135e+05, 5.07204649e+07, 7.30621013e+06,\n",
       "       5.75709001e+06, 2.67578353e+07, 3.25578095e+06, 9.86265314e+05,\n",
       "       1.74388112e+06, 4.47047014e+04, 3.15897850e+07, 1.61727442e+07,\n",
       "       3.49732649e+06, 1.71890410e+07, 2.81793119e+07, 4.56692394e+04,\n",
       "       7.99794480e+06, 3.33306464e+06, 9.69573614e+07, 9.13382698e+06,\n",
       "       7.73846298e+05, 8.19826768e+04, 2.95127276e+04, 1.52072984e+07,\n",
       "       3.06858236e+06, 5.99421162e+04, 5.34729254e+04, 7.37247536e+06,\n",
       "       5.85942969e+05, 2.96137781e+05, 2.16310965e+06, 3.33311267e+06,\n",
       "       2.72984847e+07, 7.48749876e+05, 5.85398143e+06, 1.58215032e+07,\n",
       "       5.85380132e+06, 1.64222833e+07, 8.39478248e+06, 2.97714756e+07,\n",
       "       6.16632437e+05, 1.66239939e+05, 3.17807521e+07, 2.67120451e+06,\n",
       "       8.41609046e+07, 3.25506130e+04, 8.54867028e+04, 3.63546047e+04,\n",
       "       3.29382704e+06, 1.87654034e+07, 1.35856264e+06, 6.21613082e+07,\n",
       "       5.66160947e+04, 2.12037085e+05, 1.68446557e+06, 4.30895062e+07,\n",
       "       1.28407937e+06, 4.80173535e+05, 3.54227571e+06, 1.34897923e+06,\n",
       "       1.88113511e+07, 3.04308088e+06])"
      ]
     },
     "execution_count": 21,
     "metadata": {},
     "output_type": "execute_result"
    }
   ],
   "source": [
    "y_pred =model.predict(test)\n",
    "(y_pred)\n"
   ]
  },
  {
   "cell_type": "code",
   "execution_count": 22,
   "metadata": {},
   "outputs": [
    {
     "data": {
      "text/html": [
       "<div>\n",
       "<style scoped>\n",
       "    .dataframe tbody tr th:only-of-type {\n",
       "        vertical-align: middle;\n",
       "    }\n",
       "\n",
       "    .dataframe tbody tr th {\n",
       "        vertical-align: top;\n",
       "    }\n",
       "\n",
       "    .dataframe thead th {\n",
       "        text-align: right;\n",
       "    }\n",
       "</style>\n",
       "<table border=\"1\" class=\"dataframe\">\n",
       "  <thead>\n",
       "    <tr style=\"text-align: right;\">\n",
       "      <th></th>\n",
       "      <th>gross_USA</th>\n",
       "      <th>year</th>\n",
       "      <th>cumm_gross</th>\n",
       "      <th>movie_name</th>\n",
       "    </tr>\n",
       "  </thead>\n",
       "  <tbody>\n",
       "    <tr>\n",
       "      <th>2</th>\n",
       "      <td>57300000.0</td>\n",
       "      <td>1974</td>\n",
       "      <td>3.482502e+07</td>\n",
       "      <td>The Godfather: Part II</td>\n",
       "    </tr>\n",
       "    <tr>\n",
       "      <th>4</th>\n",
       "      <td>4360000.0</td>\n",
       "      <td>1957</td>\n",
       "      <td>2.671481e+06</td>\n",
       "      <td>12 Angry Men</td>\n",
       "    </tr>\n",
       "    <tr>\n",
       "      <th>8</th>\n",
       "      <td>6100000.0</td>\n",
       "      <td>1966</td>\n",
       "      <td>3.728385e+06</td>\n",
       "      <td>The Good, the Bad and the Ugly</td>\n",
       "    </tr>\n",
       "    <tr>\n",
       "      <th>15</th>\n",
       "      <td>112000000.0</td>\n",
       "      <td>1975</td>\n",
       "      <td>6.804732e+07</td>\n",
       "      <td>One Flew Over the Cuckoo's Nest</td>\n",
       "    </tr>\n",
       "    <tr>\n",
       "      <th>16</th>\n",
       "      <td>46836394.0</td>\n",
       "      <td>1990</td>\n",
       "      <td>2.847010e+07</td>\n",
       "      <td>Goodfellas</td>\n",
       "    </tr>\n",
       "  </tbody>\n",
       "</table>\n",
       "</div>"
      ],
      "text/plain": [
       "      gross_USA  year    cumm_gross                       movie_name\n",
       "2    57300000.0  1974  3.482502e+07           The Godfather: Part II\n",
       "4     4360000.0  1957  2.671481e+06                     12 Angry Men\n",
       "8     6100000.0  1966  3.728385e+06   The Good, the Bad and the Ugly\n",
       "15  112000000.0  1975  6.804732e+07  One Flew Over the Cuckoo's Nest\n",
       "16   46836394.0  1990  2.847010e+07                       Goodfellas"
      ]
     },
     "execution_count": 22,
     "metadata": {},
     "output_type": "execute_result"
    }
   ],
   "source": [
    "test['cumm_gross']=y_pred\n",
    "test['movie_name']=test_movie\n",
    "test.head()"
   ]
  },
  {
   "cell_type": "code",
   "execution_count": 23,
   "metadata": {},
   "outputs": [
    {
     "name": "stderr",
     "output_type": "stream",
     "text": [
      "C:\\ProgramData\\Anaconda3\\lib\\site-packages\\ipykernel_launcher.py:4: SettingWithCopyWarning: \n",
      "A value is trying to be set on a copy of a slice from a DataFrame.\n",
      "Try using .loc[row_indexer,col_indexer] = value instead\n",
      "\n",
      "See the caveats in the documentation: http://pandas.pydata.org/pandas-docs/stable/indexing.html#indexing-view-versus-copy\n",
      "  after removing the cwd from sys.path.\n"
     ]
    },
    {
     "data": {
      "text/plain": [
       "0"
      ]
     },
     "execution_count": 23,
     "metadata": {},
     "output_type": "execute_result"
    }
   ],
   "source": [
    "#inputing the cumm_gross NA values to the original data i.e top_movies\n",
    "\n",
    "test_top = top_movies[(top_movies.cumm_gross.isnull())&(top_movies.gross_USA.notnull())]\n",
    "test_top['cumm_gross']=np.where(test_top.index==test.index,test['cumm_gross'],test_top['cumm_gross'])\n",
    "\n",
    "\n",
    "\n",
    "test_top.cumm_gross.isnull().sum()"
   ]
  },
  {
   "cell_type": "code",
   "execution_count": 24,
   "metadata": {},
   "outputs": [],
   "source": [
    "test_top_index = top_movies[(top_movies.cumm_gross.isnull())&(top_movies.gross_USA.notnull())].index\n",
    "top_movies.drop(test_top_index,inplace=True)"
   ]
  },
  {
   "cell_type": "code",
   "execution_count": 25,
   "metadata": {},
   "outputs": [
    {
     "data": {
      "text/plain": [
       "9"
      ]
     },
     "execution_count": 25,
     "metadata": {},
     "output_type": "execute_result"
    }
   ],
   "source": [
    "#Original dataframe after inputing the cumm_gross values\n",
    "top_movies1=pd.concat([top_movies,test_top])\n",
    "top_movies1.cumm_gross.isnull().sum()"
   ]
  },
  {
   "cell_type": "code",
   "execution_count": 30,
   "metadata": {},
   "outputs": [
    {
     "data": {
      "text/plain": [
       "(209, 8)"
      ]
     },
     "execution_count": 30,
     "metadata": {},
     "output_type": "execute_result"
    }
   ],
   "source": [
    "top_movies1=top_movies1[['Budget','IMD_Rating','cumm_gross','gross_USA','genre1','movie_name','year','popularity_index']]\n",
    "top_movies1.shape,\n",
    "top_movies1=top_movies1.dropna()\n",
    "top_movies1.shape"
   ]
  },
  {
   "cell_type": "markdown",
   "metadata": {},
   "source": [
    "# Building a Recommdation system for 209 movies "
   ]
  },
  {
   "cell_type": "code",
   "execution_count": 34,
   "metadata": {},
   "outputs": [
    {
     "data": {
      "text/html": [
       "<div>\n",
       "<style scoped>\n",
       "    .dataframe tbody tr th:only-of-type {\n",
       "        vertical-align: middle;\n",
       "    }\n",
       "\n",
       "    .dataframe tbody tr th {\n",
       "        vertical-align: top;\n",
       "    }\n",
       "\n",
       "    .dataframe thead th {\n",
       "        text-align: right;\n",
       "    }\n",
       "</style>\n",
       "<table border=\"1\" class=\"dataframe\">\n",
       "  <thead>\n",
       "    <tr style=\"text-align: right;\">\n",
       "      <th></th>\n",
       "      <th>Budget</th>\n",
       "      <th>IMD_Rating</th>\n",
       "      <th>cumm_gross</th>\n",
       "      <th>gross_USA</th>\n",
       "      <th>year</th>\n",
       "      <th>popularity_index</th>\n",
       "      <th>genre1_Action</th>\n",
       "      <th>genre1_Adventure</th>\n",
       "      <th>genre1_Animation</th>\n",
       "      <th>genre1_Biography</th>\n",
       "      <th>genre1_Comedy</th>\n",
       "      <th>genre1_Crime</th>\n",
       "      <th>genre1_Drama</th>\n",
       "      <th>genre1_Horror</th>\n",
       "      <th>genre1_Mystery</th>\n",
       "      <th>genre1_Sci-Fi</th>\n",
       "      <th>genre1_Western</th>\n",
       "    </tr>\n",
       "  </thead>\n",
       "  <tbody>\n",
       "    <tr>\n",
       "      <th>0</th>\n",
       "      <td>25000000.0</td>\n",
       "      <td>9.3</td>\n",
       "      <td>5.850000e+07</td>\n",
       "      <td>28341469.0</td>\n",
       "      <td>1994</td>\n",
       "      <td>19190698.8</td>\n",
       "      <td>0</td>\n",
       "      <td>0</td>\n",
       "      <td>0</td>\n",
       "      <td>0</td>\n",
       "      <td>0</td>\n",
       "      <td>0</td>\n",
       "      <td>1</td>\n",
       "      <td>0</td>\n",
       "      <td>0</td>\n",
       "      <td>0</td>\n",
       "      <td>0</td>\n",
       "    </tr>\n",
       "    <tr>\n",
       "      <th>1</th>\n",
       "      <td>6000000.0</td>\n",
       "      <td>9.2</td>\n",
       "      <td>2.450664e+08</td>\n",
       "      <td>134966411.0</td>\n",
       "      <td>1972</td>\n",
       "      <td>13024283.6</td>\n",
       "      <td>0</td>\n",
       "      <td>0</td>\n",
       "      <td>0</td>\n",
       "      <td>0</td>\n",
       "      <td>0</td>\n",
       "      <td>1</td>\n",
       "      <td>0</td>\n",
       "      <td>0</td>\n",
       "      <td>0</td>\n",
       "      <td>0</td>\n",
       "      <td>0</td>\n",
       "    </tr>\n",
       "    <tr>\n",
       "      <th>3</th>\n",
       "      <td>185000000.0</td>\n",
       "      <td>9.0</td>\n",
       "      <td>1.004558e+09</td>\n",
       "      <td>534858444.0</td>\n",
       "      <td>2008</td>\n",
       "      <td>18267786.0</td>\n",
       "      <td>1</td>\n",
       "      <td>0</td>\n",
       "      <td>0</td>\n",
       "      <td>0</td>\n",
       "      <td>0</td>\n",
       "      <td>0</td>\n",
       "      <td>0</td>\n",
       "      <td>0</td>\n",
       "      <td>0</td>\n",
       "      <td>0</td>\n",
       "      <td>0</td>\n",
       "    </tr>\n",
       "    <tr>\n",
       "      <th>5</th>\n",
       "      <td>22000000.0</td>\n",
       "      <td>8.9</td>\n",
       "      <td>2.210000e+08</td>\n",
       "      <td>96067179.0</td>\n",
       "      <td>1993</td>\n",
       "      <td>9513886.4</td>\n",
       "      <td>0</td>\n",
       "      <td>0</td>\n",
       "      <td>0</td>\n",
       "      <td>1</td>\n",
       "      <td>0</td>\n",
       "      <td>0</td>\n",
       "      <td>0</td>\n",
       "      <td>0</td>\n",
       "      <td>0</td>\n",
       "      <td>0</td>\n",
       "      <td>0</td>\n",
       "    </tr>\n",
       "    <tr>\n",
       "      <th>6</th>\n",
       "      <td>94000000.0</td>\n",
       "      <td>8.9</td>\n",
       "      <td>1.119930e+09</td>\n",
       "      <td>377845905.0</td>\n",
       "      <td>2003</td>\n",
       "      <td>13076476.3</td>\n",
       "      <td>0</td>\n",
       "      <td>1</td>\n",
       "      <td>0</td>\n",
       "      <td>0</td>\n",
       "      <td>0</td>\n",
       "      <td>0</td>\n",
       "      <td>0</td>\n",
       "      <td>0</td>\n",
       "      <td>0</td>\n",
       "      <td>0</td>\n",
       "      <td>0</td>\n",
       "    </tr>\n",
       "  </tbody>\n",
       "</table>\n",
       "</div>"
      ],
      "text/plain": [
       "        Budget  IMD_Rating    cumm_gross    gross_USA  year  popularity_index  \\\n",
       "0   25000000.0         9.3  5.850000e+07   28341469.0  1994        19190698.8   \n",
       "1    6000000.0         9.2  2.450664e+08  134966411.0  1972        13024283.6   \n",
       "3  185000000.0         9.0  1.004558e+09  534858444.0  2008        18267786.0   \n",
       "5   22000000.0         8.9  2.210000e+08   96067179.0  1993         9513886.4   \n",
       "6   94000000.0         8.9  1.119930e+09  377845905.0  2003        13076476.3   \n",
       "\n",
       "   genre1_Action  genre1_Adventure  genre1_Animation  genre1_Biography  \\\n",
       "0              0                 0                 0                 0   \n",
       "1              0                 0                 0                 0   \n",
       "3              1                 0                 0                 0   \n",
       "5              0                 0                 0                 1   \n",
       "6              0                 1                 0                 0   \n",
       "\n",
       "   genre1_Comedy  genre1_Crime  genre1_Drama  genre1_Horror  genre1_Mystery  \\\n",
       "0              0             0             1              0               0   \n",
       "1              0             1             0              0               0   \n",
       "3              0             0             0              0               0   \n",
       "5              0             0             0              0               0   \n",
       "6              0             0             0              0               0   \n",
       "\n",
       "   genre1_Sci-Fi  genre1_Western  \n",
       "0              0               0  \n",
       "1              0               0  \n",
       "3              0               0  \n",
       "5              0               0  \n",
       "6              0               0  "
      ]
     },
     "execution_count": 34,
     "metadata": {},
     "output_type": "execute_result"
    }
   ],
   "source": [
    "index=top_movies1['movie_name']\n",
    "movies=top_movies1.drop('movie_name',axis=1)\n",
    "movie_dummies=pd.get_dummies(movies)\n",
    "movie_dummies.head()"
   ]
  },
  {
   "cell_type": "code",
   "execution_count": 36,
   "metadata": {},
   "outputs": [
    {
     "data": {
      "text/plain": [
       "NearestNeighbors(algorithm='brute', leaf_size=30, metric='cosine',\n",
       "         metric_params=None, n_jobs=1, n_neighbors=5, p=2, radius=1.0)"
      ]
     },
     "execution_count": 36,
     "metadata": {},
     "output_type": "execute_result"
    }
   ],
   "source": [
    "from sklearn.neighbors import NearestNeighbors\n",
    "model_kn = NearestNeighbors(metric='cosine',algorithm='brute')\n",
    "model_kn.fit(movie_dummies)"
   ]
  },
  {
   "cell_type": "code",
   "execution_count": 56,
   "metadata": {},
   "outputs": [
    {
     "name": "stderr",
     "output_type": "stream",
     "text": [
      "C:\\ProgramData\\Anaconda3\\lib\\site-packages\\ipykernel_launcher.py:1: FutureWarning: reshape is deprecated and will raise in a subsequent release. Please use .values.reshape(...) instead\n",
      "  \"\"\"Entry point for launching an IPython kernel.\n"
     ]
    },
    {
     "data": {
      "text/plain": [
       "array([[2.50000000e+07, 9.30000000e+00, 5.85000000e+07, 2.83414690e+07,\n",
       "        1.99400000e+03, 1.91906988e+07, 0.00000000e+00, 0.00000000e+00,\n",
       "        0.00000000e+00, 0.00000000e+00, 0.00000000e+00, 0.00000000e+00,\n",
       "        1.00000000e+00, 0.00000000e+00, 0.00000000e+00, 0.00000000e+00,\n",
       "        0.00000000e+00]])"
      ]
     },
     "execution_count": 56,
     "metadata": {},
     "output_type": "execute_result"
    }
   ],
   "source": [
    "test = movie_dummies.iloc[0,:].reshape(1,-1)\n",
    "test"
   ]
  },
  {
   "cell_type": "code",
   "execution_count": 57,
   "metadata": {},
   "outputs": [
    {
     "data": {
      "text/plain": [
       "array([[0.        , 0.01575972, 0.01973361, 0.02103513, 0.02442666,\n",
       "        0.0247036 , 0.02504764, 0.02513992, 0.02554839, 0.02929656]])"
      ]
     },
     "execution_count": 57,
     "metadata": {},
     "output_type": "execute_result"
    }
   ],
   "source": [
    "distances,indices = model_kn.kneighbors(test,n_neighbors=10)\n",
    "distances"
   ]
  },
  {
   "cell_type": "code",
   "execution_count": 58,
   "metadata": {},
   "outputs": [
    {
     "data": {
      "text/plain": [
       "0         The Shawshank Redemption\n",
       "25                   Spirited Away\n",
       "109              L.A. Confidential\n",
       "37                    Modern Times\n",
       "98                         The Kid\n",
       "85              Lawrence of Arabia\n",
       "97           To Kill a Mockingbird\n",
       "64     Witness for the Prosecution\n",
       "38                     The Pianist\n",
       "125                     Green Book\n",
       "Name: movie_name, dtype: object"
      ]
     },
     "execution_count": 58,
     "metadata": {},
     "output_type": "execute_result"
    }
   ],
   "source": [
    "distances,indices = model_kn.kneighbors(test,n_neighbors=10)\n",
    "ind = indices[0]\n",
    "recom = index[indices[0]]\n",
    "recom"
   ]
  }
 ],
 "metadata": {
  "kernelspec": {
   "display_name": "Python 3",
   "language": "python",
   "name": "python3"
  },
  "language_info": {
   "codemirror_mode": {
    "name": "ipython",
    "version": 3
   },
   "file_extension": ".py",
   "mimetype": "text/x-python",
   "name": "python",
   "nbconvert_exporter": "python",
   "pygments_lexer": "ipython3",
   "version": "3.6.4"
  }
 },
 "nbformat": 4,
 "nbformat_minor": 2
}

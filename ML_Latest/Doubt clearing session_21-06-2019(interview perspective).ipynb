{
 "cells": [
  {
   "cell_type": "code",
   "execution_count": 31,
   "metadata": {},
   "outputs": [],
   "source": [
    "import numpy as np\n",
    "from sklearn.decomposition import TruncatedSVD"
   ]
  },
  {
   "cell_type": "code",
   "execution_count": 2,
   "metadata": {},
   "outputs": [],
   "source": [
    "from scipy.linalg import svd"
   ]
  },
  {
   "cell_type": "code",
   "execution_count": 3,
   "metadata": {},
   "outputs": [],
   "source": [
    "A=np.array([[1,2,3,4,5,5,7,8,9,10],\n",
    "          [11,12,13,14,15,16,17,18,19,20],\n",
    "          [21,22,23,24,25,26,27,28,29,30]])"
   ]
  },
  {
   "cell_type": "code",
   "execution_count": 4,
   "metadata": {},
   "outputs": [],
   "source": [
    "#Singluar value decompostion\n",
    "u,s,vt=svd(A)"
   ]
  },
  {
   "cell_type": "code",
   "execution_count": 6,
   "metadata": {},
   "outputs": [
    {
     "data": {
      "text/plain": [
       "((3, 3), (3,), (10, 10))"
      ]
     },
     "execution_count": 6,
     "metadata": {},
     "output_type": "execute_result"
    }
   ],
   "source": [
    "u.shape,s.shape,vt.shape"
   ]
  },
  {
   "cell_type": "code",
   "execution_count": 7,
   "metadata": {},
   "outputs": [
    {
     "data": {
      "text/plain": [
       "array([[-0.18782165,  0.89552539,  0.40343191],\n",
       "       [-0.51403431,  0.2603792 , -0.81729517],\n",
       "       [-0.83695385, -0.36088357,  0.41142593]])"
      ]
     },
     "execution_count": 7,
     "metadata": {},
     "output_type": "execute_result"
    }
   ],
   "source": [
    "u"
   ]
  },
  {
   "cell_type": "code",
   "execution_count": 8,
   "metadata": {},
   "outputs": [
    {
     "data": {
      "text/plain": [
       "array([96.90512365,  7.29719273,  0.38469213])"
      ]
     },
     "execution_count": 8,
     "metadata": {},
     "output_type": "execute_result"
    }
   ],
   "source": [
    "s"
   ]
  },
  {
   "cell_type": "code",
   "execution_count": 9,
   "metadata": {},
   "outputs": [
    {
     "data": {
      "text/plain": [
       "array([[-2.41661423e-01, -2.57540973e-01, -2.73420524e-01,\n",
       "        -2.89300074e-01, -3.05179625e-01, -3.19120974e-01,\n",
       "        -3.36938726e-01, -3.52818277e-01, -3.68697827e-01,\n",
       "        -3.84577378e-01],\n",
       "       [-5.23332537e-01, -4.14383652e-01, -3.05434766e-01,\n",
       "        -1.96485880e-01, -8.75369940e-02, -1.01310013e-01,\n",
       "         1.30360778e-01,  2.39309664e-01,  3.48258549e-01,\n",
       "         4.57207435e-01],\n",
       "       [ 1.38109245e-01,  1.31773449e-01,  1.25437653e-01,\n",
       "         1.19101858e-01,  1.12766062e-01, -9.42283442e-01,\n",
       "         1.00094471e-01,  9.37586751e-02,  8.74228794e-02,\n",
       "         8.10870837e-02],\n",
       "       [-2.54569664e-01, -1.78876572e-01, -1.51218362e-01,\n",
       "         9.25756208e-01, -7.26581421e-02, -6.71728979e-15,\n",
       "        -6.94868420e-02, -6.79011920e-02, -6.63155420e-02,\n",
       "        -6.47298920e-02],\n",
       "       [-2.65985755e-01, -5.63730445e-02, -1.20300703e-01,\n",
       "        -6.14878648e-02,  9.28595645e-01, -6.76868295e-15,\n",
       "        -9.12373346e-02, -1.01153825e-01, -1.11070315e-01,\n",
       "        -1.20986804e-01],\n",
       "       [-3.71538254e-01, -2.82292599e-01,  8.79495816e-01,\n",
       "        -2.75681557e-02, -3.07395257e-02, -1.02875383e-14,\n",
       "        -3.70822655e-02, -4.02536355e-02, -4.34250054e-02,\n",
       "        -4.65963753e-02],\n",
       "       [-2.88817935e-01,  1.88634010e-01, -5.84653856e-02,\n",
       "        -3.59760102e-02, -6.88967800e-02, -6.63459830e-15,\n",
       "         8.65261680e-01, -1.67659090e-01, -2.00579860e-01,\n",
       "        -2.33500629e-01],\n",
       "       [-3.00234026e-01,  3.11137537e-01, -2.75477267e-02,\n",
       "        -2.32200829e-02, -6.76429927e-02, -7.78233668e-15,\n",
       "        -1.56488812e-01,  7.99088278e-01, -2.45334632e-01,\n",
       "        -2.89757542e-01],\n",
       "       [-3.11650116e-01,  4.33641064e-01,  3.36993211e-03,\n",
       "        -1.04641556e-02, -6.63892054e-02, -4.83423055e-15,\n",
       "        -1.78239305e-01, -2.34164355e-01,  7.09910595e-01,\n",
       "        -3.46014454e-01],\n",
       "       [-3.23066207e-01,  5.56144591e-01,  3.42875909e-02,\n",
       "         2.29177176e-03, -6.51354180e-02, -6.56531031e-15,\n",
       "        -1.99989798e-01, -2.67416987e-01, -3.34844177e-01,\n",
       "         5.97728633e-01]])"
      ]
     },
     "execution_count": 9,
     "metadata": {},
     "output_type": "execute_result"
    }
   ],
   "source": [
    "vt"
   ]
  },
  {
   "cell_type": "code",
   "execution_count": 10,
   "metadata": {},
   "outputs": [
    {
     "data": {
      "text/plain": [
       "array([[0., 0., 0., 0., 0., 0., 0., 0., 0., 0.],\n",
       "       [0., 0., 0., 0., 0., 0., 0., 0., 0., 0.],\n",
       "       [0., 0., 0., 0., 0., 0., 0., 0., 0., 0.]])"
      ]
     },
     "execution_count": 10,
     "metadata": {},
     "output_type": "execute_result"
    }
   ],
   "source": [
    "#create  m*n signma matrix\n",
    "sigma =np.zeros((A.shape[0],A.shape[1]))\n",
    "sigma"
   ]
  },
  {
   "cell_type": "code",
   "execution_count": 11,
   "metadata": {},
   "outputs": [
    {
     "data": {
      "text/plain": [
       "3"
      ]
     },
     "execution_count": 11,
     "metadata": {},
     "output_type": "execute_result"
    }
   ],
   "source": [
    "A.shape[0]"
   ]
  },
  {
   "cell_type": "code",
   "execution_count": 16,
   "metadata": {},
   "outputs": [
    {
     "data": {
      "text/plain": [
       "array([[96.90512365,  0.        ,  0.        ,  0.        ,  0.        ,\n",
       "         0.        ,  0.        ,  0.        ,  0.        ,  0.        ],\n",
       "       [ 0.        ,  7.29719273,  0.        ,  0.        ,  0.        ,\n",
       "         0.        ,  0.        ,  0.        ,  0.        ,  0.        ],\n",
       "       [ 0.        ,  0.        ,  0.38469213,  0.        ,  0.        ,\n",
       "         0.        ,  0.        ,  0.        ,  0.        ,  0.        ]])"
      ]
     },
     "execution_count": 16,
     "metadata": {},
     "output_type": "execute_result"
    }
   ],
   "source": [
    "#populate signma with n*n  diagonal matrix\n",
    "sigma[:A.shape[0],:A.shape[0]]=np.diag(s)\n",
    "sigma"
   ]
  },
  {
   "cell_type": "code",
   "execution_count": 15,
   "metadata": {},
   "outputs": [
    {
     "data": {
      "text/plain": [
       "array([[ 1.,  2.,  3.,  4.,  5.,  5.,  7.,  8.,  9., 10.],\n",
       "       [11., 12., 13., 14., 15., 16., 17., 18., 19., 20.],\n",
       "       [21., 22., 23., 24., 25., 26., 27., 28., 29., 30.]])"
      ]
     },
     "execution_count": 15,
     "metadata": {},
     "output_type": "execute_result"
    }
   ],
   "source": [
    "A1=u.dot(sigma.dot(vt))\n",
    "A1"
   ]
  },
  {
   "cell_type": "code",
   "execution_count": 18,
   "metadata": {},
   "outputs": [
    {
     "data": {
      "text/plain": [
       "array([[96.90512365,  0.        ],\n",
       "       [ 0.        ,  7.29719273],\n",
       "       [ 0.        ,  0.        ]])"
      ]
     },
     "execution_count": 18,
     "metadata": {},
     "output_type": "execute_result"
    }
   ],
   "source": [
    "sigma1=sigma[:,:2]\n",
    "sigma1"
   ]
  },
  {
   "cell_type": "code",
   "execution_count": 20,
   "metadata": {},
   "outputs": [
    {
     "data": {
      "text/plain": [
       "array([[-0.24166142, -0.25754097, -0.27342052, -0.28930007, -0.30517962,\n",
       "        -0.31912097, -0.33693873, -0.35281828, -0.36869783, -0.38457738],\n",
       "       [-0.52333254, -0.41438365, -0.30543477, -0.19648588, -0.08753699,\n",
       "        -0.10131001,  0.13036078,  0.23930966,  0.34825855,  0.45720744]])"
      ]
     },
     "execution_count": 20,
     "metadata": {},
     "output_type": "execute_result"
    }
   ],
   "source": [
    "vt1=vt[:2,:]\n",
    "vt1"
   ]
  },
  {
   "cell_type": "code",
   "execution_count": 23,
   "metadata": {},
   "outputs": [
    {
     "data": {
      "text/plain": [
       "array([[ 1.,  2.,  3.,  4.,  5.,  5.,  7.,  8.,  9., 10.],\n",
       "       [11., 12., 13., 14., 15., 16., 17., 18., 19., 20.],\n",
       "       [21., 22., 23., 24., 25., 26., 27., 28., 29., 30.]])"
      ]
     },
     "execution_count": 23,
     "metadata": {},
     "output_type": "execute_result"
    }
   ],
   "source": [
    "b1=np.round(u.dot(sigma1.dot(vt1)))\n",
    "b1"
   ]
  },
  {
   "cell_type": "code",
   "execution_count": 26,
   "metadata": {},
   "outputs": [
    {
     "data": {
      "text/plain": [
       "array([[-18.20087975,   6.53482136],\n",
       "       [-49.81255873,   1.90003719],\n",
       "       [-81.10511673,  -2.63343696]])"
      ]
     },
     "execution_count": 26,
     "metadata": {},
     "output_type": "execute_result"
    }
   ],
   "source": [
    "t1=u.dot(sigma1)\n",
    "t1"
   ]
  },
  {
   "cell_type": "code",
   "execution_count": 30,
   "metadata": {},
   "outputs": [
    {
     "data": {
      "text/plain": [
       "array([[-18.20087975,   6.53482136],\n",
       "       [-49.81255873,   1.90003719],\n",
       "       [-81.10511673,  -2.63343696]])"
      ]
     },
     "execution_count": 30,
     "metadata": {},
     "output_type": "execute_result"
    }
   ],
   "source": [
    "t2=A.dot(vt1.T)\n",
    "t2\n"
   ]
  },
  {
   "cell_type": "code",
   "execution_count": 32,
   "metadata": {},
   "outputs": [
    {
     "data": {
      "text/plain": [
       "TruncatedSVD(algorithm='randomized', n_components=2, n_iter=5,\n",
       "       random_state=None, tol=0.0)"
      ]
     },
     "execution_count": 32,
     "metadata": {},
     "output_type": "execute_result"
    }
   ],
   "source": [
    "svd=TruncatedSVD(n_components=2)\n",
    "svd.fit(A)"
   ]
  },
  {
   "cell_type": "code",
   "execution_count": 37,
   "metadata": {},
   "outputs": [
    {
     "data": {
      "text/plain": [
       "array([[18.20087975,  6.53482136],\n",
       "       [49.81255873,  1.90003719],\n",
       "       [81.10511673, -2.63343696]])"
      ]
     },
     "execution_count": 37,
     "metadata": {},
     "output_type": "execute_result"
    }
   ],
   "source": [
    "result=svd.transform(A)\n",
    "result"
   ]
  },
  {
   "cell_type": "code",
   "execution_count": 38,
   "metadata": {},
   "outputs": [
    {
     "data": {
      "text/plain": [
       "(array([659.49616267,  14.01006364]), array([0.9791266 , 0.02080016]))"
      ]
     },
     "execution_count": 38,
     "metadata": {},
     "output_type": "execute_result"
    }
   ],
   "source": [
    "svd.explained_variance_,svd.explained_variance_ratio_roop0;"
   ]
  }
 ],
 "metadata": {
  "kernelspec": {
   "display_name": "Python 3",
   "language": "python",
   "name": "python3"
  },
  "language_info": {
   "codemirror_mode": {
    "name": "ipython",
    "version": 3
   },
   "file_extension": ".py",
   "mimetype": "text/x-python",
   "name": "python",
   "nbconvert_exporter": "python",
   "pygments_lexer": "ipython3",
   "version": "3.7.1"
  }
 },
 "nbformat": 4,
 "nbformat_minor": 2
}
